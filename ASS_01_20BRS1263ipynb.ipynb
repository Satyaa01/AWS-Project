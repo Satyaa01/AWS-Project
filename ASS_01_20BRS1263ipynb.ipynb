{
  "cells": [
    {
      "cell_type": "markdown",
      "source": [
        "P.Satyanarayana Reddy - 20BRS1263 - ASS01"
      ],
      "metadata": {
        "id": "wyl8XEZPfi4G"
      }
    },
    {
      "cell_type": "markdown",
      "metadata": {
        "id": "ccBEnMyIXtzq"
      },
      "source": [
        "Task 1:Create pandas dataframe(Dataframe name 'df')with numpy random values(4 feautures and 4 observations)"
      ]
    },
    {
      "cell_type": "code",
      "execution_count": null,
      "metadata": {
        "id": "qz6XbeSUVZy-"
      },
      "outputs": [],
      "source": [
        "import pandas as pd\n",
        "import numpy as np"
      ]
    },
    {
      "cell_type": "code",
      "execution_count": null,
      "metadata": {
        "colab": {
          "base_uri": "https://localhost:8080/"
        },
        "id": "DYyzrNCiVXUb",
        "outputId": "435878a6-c0b5-47dc-990a-505966019af1"
      },
      "outputs": [
        {
          "name": "stdout",
          "output_type": "stream",
          "text": [
            "0    0.855997\n",
            "1    0.774424\n",
            "2    0.479867\n",
            "3    0.600679\n",
            "dtype: float64 0    0.284434\n",
            "1    0.094336\n",
            "2    0.944981\n",
            "3    0.349308\n",
            "dtype: float64 0    0.609814\n",
            "1    0.372881\n",
            "2    0.055792\n",
            "3    0.760789\n",
            "dtype: float64 0    0.289747\n",
            "1    0.747007\n",
            "2    0.806609\n",
            "3    0.807793\n",
            "dtype: float64\n",
            "          0         1         2         3\n",
            "0  0.855997  0.774424  0.479867  0.600679\n",
            "1  0.284434  0.094336  0.944981  0.349308\n",
            "2  0.609814  0.372881  0.055792  0.760789\n",
            "3  0.289747  0.747007  0.806609  0.807793\n"
          ]
        }
      ],
      "source": [
        "# Creating 4 series\n",
        "\n",
        "c1 = pd.Series(np.random.rand(4))\n",
        "c2 = pd.Series(np.random.rand(4))\n",
        "c3 = pd.Series(np.random.rand(4))\n",
        "c4 = pd.Series(np.random.rand(4))\n",
        "print(c1,c2,c3,c4)\n",
        "\n",
        "df = pd.DataFrame([c1,c2,c3,c4])\n",
        "print(df)"
      ]
    },
    {
      "cell_type": "markdown",
      "metadata": {
        "id": "awqN22dEW3XF"
      },
      "source": [
        " Task 2: Rename the task 1 Dataframe df Column names To Random value 1,Random value 2,Random value 3,Random value 4"
      ]
    },
    {
      "cell_type": "code",
      "execution_count": null,
      "metadata": {
        "colab": {
          "base_uri": "https://localhost:8080/",
          "height": 174
        },
        "id": "FrpvIrxAWFfz",
        "outputId": "207d13b7-c933-4aae-a3d2-b7bd7bbad3d0"
      },
      "outputs": [
        {
          "data": {
            "text/html": [
              "<div>\n",
              "<style scoped>\n",
              "    .dataframe tbody tr th:only-of-type {\n",
              "        vertical-align: middle;\n",
              "    }\n",
              "\n",
              "    .dataframe tbody tr th {\n",
              "        vertical-align: top;\n",
              "    }\n",
              "\n",
              "    .dataframe thead th {\n",
              "        text-align: right;\n",
              "    }\n",
              "</style>\n",
              "<table border=\"1\" class=\"dataframe\">\n",
              "  <thead>\n",
              "    <tr style=\"text-align: right;\">\n",
              "      <th></th>\n",
              "      <th>Random value 1</th>\n",
              "      <th>Random value 2</th>\n",
              "      <th>Random value 3</th>\n",
              "      <th>Random value 4</th>\n",
              "    </tr>\n",
              "  </thead>\n",
              "  <tbody>\n",
              "    <tr>\n",
              "      <th>0</th>\n",
              "      <td>0.855997</td>\n",
              "      <td>0.774424</td>\n",
              "      <td>0.479867</td>\n",
              "      <td>0.600679</td>\n",
              "    </tr>\n",
              "    <tr>\n",
              "      <th>1</th>\n",
              "      <td>0.284434</td>\n",
              "      <td>0.094336</td>\n",
              "      <td>0.944981</td>\n",
              "      <td>0.349308</td>\n",
              "    </tr>\n",
              "    <tr>\n",
              "      <th>2</th>\n",
              "      <td>0.609814</td>\n",
              "      <td>0.372881</td>\n",
              "      <td>0.055792</td>\n",
              "      <td>0.760789</td>\n",
              "    </tr>\n",
              "    <tr>\n",
              "      <th>3</th>\n",
              "      <td>0.289747</td>\n",
              "      <td>0.747007</td>\n",
              "      <td>0.806609</td>\n",
              "      <td>0.807793</td>\n",
              "    </tr>\n",
              "  </tbody>\n",
              "</table>\n",
              "</div>"
            ],
            "text/plain": [
              "   Random value 1  Random value 2  Random value 3  Random value 4\n",
              "0        0.855997        0.774424        0.479867        0.600679\n",
              "1        0.284434        0.094336        0.944981        0.349308\n",
              "2        0.609814        0.372881        0.055792        0.760789\n",
              "3        0.289747        0.747007        0.806609        0.807793"
            ]
          },
          "execution_count": 13,
          "metadata": {},
          "output_type": "execute_result"
        }
      ],
      "source": [
        "\n",
        "# Changing the column name\n",
        "\n",
        "df.columns = ['Random value 1','Random value 2','Random value 3','Random value 4']\n",
        "df"
      ]
    },
    {
      "cell_type": "markdown",
      "metadata": {
        "id": "gBeNMVW3XdSV"
      },
      "source": [
        "Task 3: Find the descriptive statastics of the 'df' dataframe"
      ]
    },
    {
      "cell_type": "code",
      "execution_count": null,
      "metadata": {
        "colab": {
          "base_uri": "https://localhost:8080/",
          "height": 300
        },
        "id": "jTd8nKqFXpMN",
        "outputId": "bd7a2dbb-59c3-41fc-c600-76eb946c7f9d"
      },
      "outputs": [
        {
          "data": {
            "text/html": [
              "<div>\n",
              "<style scoped>\n",
              "    .dataframe tbody tr th:only-of-type {\n",
              "        vertical-align: middle;\n",
              "    }\n",
              "\n",
              "    .dataframe tbody tr th {\n",
              "        vertical-align: top;\n",
              "    }\n",
              "\n",
              "    .dataframe thead th {\n",
              "        text-align: right;\n",
              "    }\n",
              "</style>\n",
              "<table border=\"1\" class=\"dataframe\">\n",
              "  <thead>\n",
              "    <tr style=\"text-align: right;\">\n",
              "      <th></th>\n",
              "      <th>Random value 1</th>\n",
              "      <th>Random value 2</th>\n",
              "      <th>Random value 3</th>\n",
              "      <th>Random value 4</th>\n",
              "    </tr>\n",
              "  </thead>\n",
              "  <tbody>\n",
              "    <tr>\n",
              "      <th>count</th>\n",
              "      <td>4.000000</td>\n",
              "      <td>4.000000</td>\n",
              "      <td>4.000000</td>\n",
              "      <td>4.000000</td>\n",
              "    </tr>\n",
              "    <tr>\n",
              "      <th>mean</th>\n",
              "      <td>0.509998</td>\n",
              "      <td>0.497162</td>\n",
              "      <td>0.571812</td>\n",
              "      <td>0.629642</td>\n",
              "    </tr>\n",
              "    <tr>\n",
              "      <th>std</th>\n",
              "      <td>0.276326</td>\n",
              "      <td>0.325070</td>\n",
              "      <td>0.395439</td>\n",
              "      <td>0.206852</td>\n",
              "    </tr>\n",
              "    <tr>\n",
              "      <th>min</th>\n",
              "      <td>0.284434</td>\n",
              "      <td>0.094336</td>\n",
              "      <td>0.055792</td>\n",
              "      <td>0.349308</td>\n",
              "    </tr>\n",
              "    <tr>\n",
              "      <th>25%</th>\n",
              "      <td>0.288419</td>\n",
              "      <td>0.303245</td>\n",
              "      <td>0.373848</td>\n",
              "      <td>0.537836</td>\n",
              "    </tr>\n",
              "    <tr>\n",
              "      <th>50%</th>\n",
              "      <td>0.449781</td>\n",
              "      <td>0.559944</td>\n",
              "      <td>0.643238</td>\n",
              "      <td>0.680734</td>\n",
              "    </tr>\n",
              "    <tr>\n",
              "      <th>75%</th>\n",
              "      <td>0.671360</td>\n",
              "      <td>0.753861</td>\n",
              "      <td>0.841202</td>\n",
              "      <td>0.772540</td>\n",
              "    </tr>\n",
              "    <tr>\n",
              "      <th>max</th>\n",
              "      <td>0.855997</td>\n",
              "      <td>0.774424</td>\n",
              "      <td>0.944981</td>\n",
              "      <td>0.807793</td>\n",
              "    </tr>\n",
              "  </tbody>\n",
              "</table>\n",
              "</div>"
            ],
            "text/plain": [
              "       Random value 1  Random value 2  Random value 3  Random value 4\n",
              "count        4.000000        4.000000        4.000000        4.000000\n",
              "mean         0.509998        0.497162        0.571812        0.629642\n",
              "std          0.276326        0.325070        0.395439        0.206852\n",
              "min          0.284434        0.094336        0.055792        0.349308\n",
              "25%          0.288419        0.303245        0.373848        0.537836\n",
              "50%          0.449781        0.559944        0.643238        0.680734\n",
              "75%          0.671360        0.753861        0.841202        0.772540\n",
              "max          0.855997        0.774424        0.944981        0.807793"
            ]
          },
          "execution_count": 14,
          "metadata": {},
          "output_type": "execute_result"
        }
      ],
      "source": [
        "#descriptive statastics\n",
        "df.describe()\n"
      ]
    },
    {
      "cell_type": "markdown",
      "metadata": {
        "id": "4ViElG8gYgrU"
      },
      "source": [
        "Task 4:Check for the null values in 'df' and find the datatype of each column"
      ]
    },
    {
      "cell_type": "code",
      "execution_count": null,
      "metadata": {
        "colab": {
          "base_uri": "https://localhost:8080/",
          "height": 174
        },
        "id": "DqCLs9ODYvGw",
        "outputId": "48ed95bc-8cab-4c77-c4a4-282abea08021"
      },
      "outputs": [
        {
          "data": {
            "text/html": [
              "<div>\n",
              "<style scoped>\n",
              "    .dataframe tbody tr th:only-of-type {\n",
              "        vertical-align: middle;\n",
              "    }\n",
              "\n",
              "    .dataframe tbody tr th {\n",
              "        vertical-align: top;\n",
              "    }\n",
              "\n",
              "    .dataframe thead th {\n",
              "        text-align: right;\n",
              "    }\n",
              "</style>\n",
              "<table border=\"1\" class=\"dataframe\">\n",
              "  <thead>\n",
              "    <tr style=\"text-align: right;\">\n",
              "      <th></th>\n",
              "      <th>Random value 1</th>\n",
              "      <th>Random value 2</th>\n",
              "      <th>Random value 3</th>\n",
              "      <th>Random value 4</th>\n",
              "    </tr>\n",
              "  </thead>\n",
              "  <tbody>\n",
              "    <tr>\n",
              "      <th>0</th>\n",
              "      <td>False</td>\n",
              "      <td>False</td>\n",
              "      <td>False</td>\n",
              "      <td>False</td>\n",
              "    </tr>\n",
              "    <tr>\n",
              "      <th>1</th>\n",
              "      <td>False</td>\n",
              "      <td>False</td>\n",
              "      <td>False</td>\n",
              "      <td>False</td>\n",
              "    </tr>\n",
              "    <tr>\n",
              "      <th>2</th>\n",
              "      <td>False</td>\n",
              "      <td>False</td>\n",
              "      <td>False</td>\n",
              "      <td>False</td>\n",
              "    </tr>\n",
              "    <tr>\n",
              "      <th>3</th>\n",
              "      <td>False</td>\n",
              "      <td>False</td>\n",
              "      <td>False</td>\n",
              "      <td>False</td>\n",
              "    </tr>\n",
              "  </tbody>\n",
              "</table>\n",
              "</div>"
            ],
            "text/plain": [
              "   Random value 1  Random value 2  Random value 3  Random value 4\n",
              "0           False           False           False           False\n",
              "1           False           False           False           False\n",
              "2           False           False           False           False\n",
              "3           False           False           False           False"
            ]
          },
          "execution_count": 15,
          "metadata": {},
          "output_type": "execute_result"
        }
      ],
      "source": [
        "# Finding null values\n",
        "\n",
        "df.isnull()\n"
      ]
    },
    {
      "cell_type": "code",
      "execution_count": null,
      "metadata": {
        "colab": {
          "base_uri": "https://localhost:8080/"
        },
        "id": "qWNpO_OpZIlw",
        "outputId": "ba728e26-5c1c-4813-de1c-850f0782301c"
      },
      "outputs": [
        {
          "name": "stdout",
          "output_type": "stream",
          "text": [
            "float64\n",
            "float64\n",
            "float64\n",
            "float64\n"
          ]
        }
      ],
      "source": [
        "# Checking the datatype\n",
        "print(df['Random value 1'].dtype)\n",
        "print(df['Random value 2'].dtype)\n",
        "print(df['Random value 4'].dtype)\n",
        "print(df['Random value 3'].dtype)"
      ]
    },
    {
      "cell_type": "markdown",
      "metadata": {
        "id": "h8SZZiB5Z0FK"
      },
      "source": [
        "Task 5: Display Random value 2 and Random value 3 columns with location and index location methods"
      ]
    },
    {
      "cell_type": "code",
      "execution_count": null,
      "metadata": {
        "colab": {
          "base_uri": "https://localhost:8080/",
          "height": 174
        },
        "id": "Vtlh0LY4aEmR",
        "outputId": "b1fd0784-ebb4-43ff-d620-7acd644db50c"
      },
      "outputs": [
        {
          "data": {
            "text/html": [
              "<div>\n",
              "<style scoped>\n",
              "    .dataframe tbody tr th:only-of-type {\n",
              "        vertical-align: middle;\n",
              "    }\n",
              "\n",
              "    .dataframe tbody tr th {\n",
              "        vertical-align: top;\n",
              "    }\n",
              "\n",
              "    .dataframe thead th {\n",
              "        text-align: right;\n",
              "    }\n",
              "</style>\n",
              "<table border=\"1\" class=\"dataframe\">\n",
              "  <thead>\n",
              "    <tr style=\"text-align: right;\">\n",
              "      <th></th>\n",
              "      <th>Random value 2</th>\n",
              "      <th>Random value 3</th>\n",
              "    </tr>\n",
              "  </thead>\n",
              "  <tbody>\n",
              "    <tr>\n",
              "      <th>0</th>\n",
              "      <td>0.774424</td>\n",
              "      <td>0.479867</td>\n",
              "    </tr>\n",
              "    <tr>\n",
              "      <th>1</th>\n",
              "      <td>0.094336</td>\n",
              "      <td>0.944981</td>\n",
              "    </tr>\n",
              "    <tr>\n",
              "      <th>2</th>\n",
              "      <td>0.372881</td>\n",
              "      <td>0.055792</td>\n",
              "    </tr>\n",
              "    <tr>\n",
              "      <th>3</th>\n",
              "      <td>0.747007</td>\n",
              "      <td>0.806609</td>\n",
              "    </tr>\n",
              "  </tbody>\n",
              "</table>\n",
              "</div>"
            ],
            "text/plain": [
              "   Random value 2  Random value 3\n",
              "0        0.774424        0.479867\n",
              "1        0.094336        0.944981\n",
              "2        0.372881        0.055792\n",
              "3        0.747007        0.806609"
            ]
          },
          "execution_count": 19,
          "metadata": {},
          "output_type": "execute_result"
        }
      ],
      "source": [
        "#location method\n",
        "# give the actual row and column name as a parameter\n",
        "\n",
        "df.loc[0:3,'Random value 2':'Random value 3']"
      ]
    },
    {
      "cell_type": "code",
      "execution_count": null,
      "metadata": {
        "colab": {
          "base_uri": "https://localhost:8080/",
          "height": 174
        },
        "id": "4KV8asYiacOj",
        "outputId": "5df860d9-7f27-40df-edcf-4d5511749fe1"
      },
      "outputs": [
        {
          "data": {
            "text/html": [
              "<div>\n",
              "<style scoped>\n",
              "    .dataframe tbody tr th:only-of-type {\n",
              "        vertical-align: middle;\n",
              "    }\n",
              "\n",
              "    .dataframe tbody tr th {\n",
              "        vertical-align: top;\n",
              "    }\n",
              "\n",
              "    .dataframe thead th {\n",
              "        text-align: right;\n",
              "    }\n",
              "</style>\n",
              "<table border=\"1\" class=\"dataframe\">\n",
              "  <thead>\n",
              "    <tr style=\"text-align: right;\">\n",
              "      <th></th>\n",
              "      <th>Random value 2</th>\n",
              "      <th>Random value 3</th>\n",
              "    </tr>\n",
              "  </thead>\n",
              "  <tbody>\n",
              "    <tr>\n",
              "      <th>0</th>\n",
              "      <td>0.774424</td>\n",
              "      <td>0.479867</td>\n",
              "    </tr>\n",
              "    <tr>\n",
              "      <th>1</th>\n",
              "      <td>0.094336</td>\n",
              "      <td>0.944981</td>\n",
              "    </tr>\n",
              "    <tr>\n",
              "      <th>2</th>\n",
              "      <td>0.372881</td>\n",
              "      <td>0.055792</td>\n",
              "    </tr>\n",
              "    <tr>\n",
              "      <th>3</th>\n",
              "      <td>0.747007</td>\n",
              "      <td>0.806609</td>\n",
              "    </tr>\n",
              "  </tbody>\n",
              "</table>\n",
              "</div>"
            ],
            "text/plain": [
              "   Random value 2  Random value 3\n",
              "0        0.774424        0.479867\n",
              "1        0.094336        0.944981\n",
              "2        0.372881        0.055792\n",
              "3        0.747007        0.806609"
            ]
          },
          "execution_count": 20,
          "metadata": {},
          "output_type": "execute_result"
        }
      ],
      "source": [
        "#index location method\n",
        "# give the actual row and column index value as a parameter\n",
        "\n",
        "df.iloc[0:,1:3]"
      ]
    }
  ],
  "metadata": {
    "colab": {
      "provenance": []
    },
    "kernelspec": {
      "display_name": "Python 3",
      "name": "python3"
    },
    "language_info": {
      "codemirror_mode": {
        "name": "ipython",
        "version": 3
      },
      "file_extension": ".py",
      "mimetype": "text/x-python",
      "name": "python",
      "nbconvert_exporter": "python",
      "pygments_lexer": "ipython3",
      "version": "3.10.10"
    }
  },
  "nbformat": 4,
  "nbformat_minor": 0
}